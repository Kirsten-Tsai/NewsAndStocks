{
 "cells": [
  {
   "cell_type": "code",
   "execution_count": 1,
   "metadata": {},
   "outputs": [],
   "source": [
    "import requests\n",
    "import pandas as pd\n",
    "from bs4 import BeautifulSoup"
   ]
  },
  {
   "cell_type": "code",
   "execution_count": 2,
   "metadata": {},
   "outputs": [],
   "source": [
    "tesla = pd.read_excel('Data/Tesla/Tesla.xlsx')"
   ]
  },
  {
   "cell_type": "code",
   "execution_count": 11,
   "metadata": {
    "scrolled": true
   },
   "outputs": [
    {
     "data": {
      "text/html": [
       "<div>\n",
       "<style scoped>\n",
       "    .dataframe tbody tr th:only-of-type {\n",
       "        vertical-align: middle;\n",
       "    }\n",
       "\n",
       "    .dataframe tbody tr th {\n",
       "        vertical-align: top;\n",
       "    }\n",
       "\n",
       "    .dataframe thead th {\n",
       "        text-align: right;\n",
       "    }\n",
       "</style>\n",
       "<table border=\"1\" class=\"dataframe\">\n",
       "  <thead>\n",
       "    <tr style=\"text-align: right;\">\n",
       "      <th></th>\n",
       "      <th>Title</th>\n",
       "      <th>Title_link</th>\n",
       "      <th>Thumbnail</th>\n",
       "      <th>cnn-search__result-body</th>\n",
       "      <th>cnn-search__result-publish-date</th>\n",
       "    </tr>\n",
       "  </thead>\n",
       "  <tbody>\n",
       "    <tr>\n",
       "      <th>0</th>\n",
       "      <td>Tesla factory worker: Elon Musk doesn't have w...</td>\n",
       "      <td>https://www.cnn.com/2020/05/14/tech/tesla-work...</td>\n",
       "      <td>https://cdn.cnn.com/cnnnext/dam/assets/2004271...</td>\n",
       "      <td>Tesla CEO Elon Musk has become one of America'...</td>\n",
       "      <td>May 14, 2020</td>\n",
       "    </tr>\n",
       "    <tr>\n",
       "      <th>1</th>\n",
       "      <td>Elon Musk is using his power to be selfish</td>\n",
       "      <td>https://www.cnn.com/2020/05/01/opinions/elon-m...</td>\n",
       "      <td>https://cdn.cnn.com/cnnnext/dam/assets/1803121...</td>\n",
       "      <td>On a recent Wednesday, Tesla CEO and self-styl...</td>\n",
       "      <td>May 1, 2020</td>\n",
       "    </tr>\n",
       "    <tr>\n",
       "      <th>2</th>\n",
       "      <td>Jerome Powell is asking for help. Will anyone ...</td>\n",
       "      <td>https://www.cnn.com/2020/05/14/investing/prema...</td>\n",
       "      <td>https://cdn.cnn.com/cnnnext/dam/assets/2005140...</td>\n",
       "      <td>Jerome Powell needs help. The chairman of the ...</td>\n",
       "      <td>May 14, 2020</td>\n",
       "    </tr>\n",
       "    <tr>\n",
       "      <th>3</th>\n",
       "      <td>Analysis: What happened to Elon Musk?</td>\n",
       "      <td>https://www.cnn.com/2020/05/13/business/elon-m...</td>\n",
       "      <td>https://cdn.cnn.com/cnnnext/dam/assets/2005131...</td>\n",
       "      <td>Elon Musk truly entered the public consciousne...</td>\n",
       "      <td>May 13, 2020</td>\n",
       "    </tr>\n",
       "    <tr>\n",
       "      <th>4</th>\n",
       "      <td>After years without turning a profit, Tesla is...</td>\n",
       "      <td>https://www.cnn.com/2020/05/13/business/tesla-...</td>\n",
       "      <td>https://cdn.cnn.com/cnnnext/dam/assets/2005130...</td>\n",
       "      <td>It hasn't received  a lot of attention with al...</td>\n",
       "      <td>May 13, 2020</td>\n",
       "    </tr>\n",
       "  </tbody>\n",
       "</table>\n",
       "</div>"
      ],
      "text/plain": [
       "                                               Title  \\\n",
       "0  Tesla factory worker: Elon Musk doesn't have w...   \n",
       "1         Elon Musk is using his power to be selfish   \n",
       "2  Jerome Powell is asking for help. Will anyone ...   \n",
       "3              Analysis: What happened to Elon Musk?   \n",
       "4  After years without turning a profit, Tesla is...   \n",
       "\n",
       "                                          Title_link  \\\n",
       "0  https://www.cnn.com/2020/05/14/tech/tesla-work...   \n",
       "1  https://www.cnn.com/2020/05/01/opinions/elon-m...   \n",
       "2  https://www.cnn.com/2020/05/14/investing/prema...   \n",
       "3  https://www.cnn.com/2020/05/13/business/elon-m...   \n",
       "4  https://www.cnn.com/2020/05/13/business/tesla-...   \n",
       "\n",
       "                                           Thumbnail  \\\n",
       "0  https://cdn.cnn.com/cnnnext/dam/assets/2004271...   \n",
       "1  https://cdn.cnn.com/cnnnext/dam/assets/1803121...   \n",
       "2  https://cdn.cnn.com/cnnnext/dam/assets/2005140...   \n",
       "3  https://cdn.cnn.com/cnnnext/dam/assets/2005131...   \n",
       "4  https://cdn.cnn.com/cnnnext/dam/assets/2005130...   \n",
       "\n",
       "                             cnn-search__result-body  \\\n",
       "0  Tesla CEO Elon Musk has become one of America'...   \n",
       "1  On a recent Wednesday, Tesla CEO and self-styl...   \n",
       "2  Jerome Powell needs help. The chairman of the ...   \n",
       "3  Elon Musk truly entered the public consciousne...   \n",
       "4  It hasn't received  a lot of attention with al...   \n",
       "\n",
       "  cnn-search__result-publish-date  \n",
       "0                    May 14, 2020  \n",
       "1                     May 1, 2020  \n",
       "2                    May 14, 2020  \n",
       "3                    May 13, 2020  \n",
       "4                    May 13, 2020  "
      ]
     },
     "execution_count": 11,
     "metadata": {},
     "output_type": "execute_result"
    }
   ],
   "source": [
    "tesla.head()"
   ]
  },
  {
   "cell_type": "code",
   "execution_count": 14,
   "metadata": {},
   "outputs": [],
   "source": [
    "def scrape_news(url):\n",
    "    html_doc = requests.get(url).text\n",
    "    soup = BeautifulSoup(html_doc, 'html.parser')\n",
    "    bodyp = soup.find_all('div', {'class': 'zn-body__paragraph'})\n",
    "    ps = []\n",
    "    for p in bodyp:\n",
    "        ps.append(p.get_text(strip=True))\n",
    "    return ' '.join(ps)"
   ]
  },
  {
   "cell_type": "code",
   "execution_count": 15,
   "metadata": {},
   "outputs": [],
   "source": [
    "tesla['content'] = tesla.Title_link.apply(lambda x: scrape_news(x))"
   ]
  },
  {
   "cell_type": "code",
   "execution_count": 83,
   "metadata": {},
   "outputs": [],
   "source": [
    "def cleaning(df):\n",
    "    df['date'] = pd.to_datetime(df['cnn-search__result-publish-date'])\n",
    "    df = df[['Title', 'Title_link', 'content', 'date']]\n",
    "    df.columns = ['Title', 'url', 'content', 'date']\n",
    "    return df"
   ]
  },
  {
   "cell_type": "code",
   "execution_count": 88,
   "metadata": {},
   "outputs": [],
   "source": [
    "def main(df, name):\n",
    "    df['content'] = df.Title_link.apply(lambda x: scrape_news(x))\n",
    "    df = cleaning(df)\n",
    "    df.to_csv(f\"./Data/Tesla/Clean{name}\", index=False)\n",
    "    return df"
   ]
  },
  {
   "cell_type": "code",
   "execution_count": 84,
   "metadata": {},
   "outputs": [
    {
     "data": {
      "text/html": [
       "<div>\n",
       "<style scoped>\n",
       "    .dataframe tbody tr th:only-of-type {\n",
       "        vertical-align: middle;\n",
       "    }\n",
       "\n",
       "    .dataframe tbody tr th {\n",
       "        vertical-align: top;\n",
       "    }\n",
       "\n",
       "    .dataframe thead th {\n",
       "        text-align: right;\n",
       "    }\n",
       "</style>\n",
       "<table border=\"1\" class=\"dataframe\">\n",
       "  <thead>\n",
       "    <tr style=\"text-align: right;\">\n",
       "      <th></th>\n",
       "      <th>Title</th>\n",
       "      <th>url</th>\n",
       "      <th>content</th>\n",
       "      <th>date</th>\n",
       "    </tr>\n",
       "  </thead>\n",
       "  <tbody>\n",
       "    <tr>\n",
       "      <th>0</th>\n",
       "      <td>Tesla factory worker: Elon Musk doesn't have w...</td>\n",
       "      <td>https://www.cnn.com/2020/05/14/tech/tesla-work...</td>\n",
       "      <td>Afterwinning a public standoffwith California'...</td>\n",
       "      <td>2020-05-14</td>\n",
       "    </tr>\n",
       "    <tr>\n",
       "      <th>1</th>\n",
       "      <td>Elon Musk is using his power to be selfish</td>\n",
       "      <td>https://www.cnn.com/2020/05/01/opinions/elon-m...</td>\n",
       "      <td>His words were tone deaf and, for someone with...</td>\n",
       "      <td>2020-05-01</td>\n",
       "    </tr>\n",
       "    <tr>\n",
       "      <th>2</th>\n",
       "      <td>Jerome Powell is asking for help. Will anyone ...</td>\n",
       "      <td>https://www.cnn.com/2020/05/14/investing/prema...</td>\n",
       "      <td>A version of this story first appeared in CNN ...</td>\n",
       "      <td>2020-05-14</td>\n",
       "    </tr>\n",
       "    <tr>\n",
       "      <th>3</th>\n",
       "      <td>Analysis: What happened to Elon Musk?</td>\n",
       "      <td>https://www.cnn.com/2020/05/13/business/elon-m...</td>\n",
       "      <td>Musk deftly played the part of a new kind of C...</td>\n",
       "      <td>2020-05-13</td>\n",
       "    </tr>\n",
       "    <tr>\n",
       "      <th>4</th>\n",
       "      <td>After years without turning a profit, Tesla is...</td>\n",
       "      <td>https://www.cnn.com/2020/05/13/business/tesla-...</td>\n",
       "      <td>It is a remarkable achievement for a company t...</td>\n",
       "      <td>2020-05-13</td>\n",
       "    </tr>\n",
       "  </tbody>\n",
       "</table>\n",
       "</div>"
      ],
      "text/plain": [
       "                                               Title  \\\n",
       "0  Tesla factory worker: Elon Musk doesn't have w...   \n",
       "1         Elon Musk is using his power to be selfish   \n",
       "2  Jerome Powell is asking for help. Will anyone ...   \n",
       "3              Analysis: What happened to Elon Musk?   \n",
       "4  After years without turning a profit, Tesla is...   \n",
       "\n",
       "                                                 url  \\\n",
       "0  https://www.cnn.com/2020/05/14/tech/tesla-work...   \n",
       "1  https://www.cnn.com/2020/05/01/opinions/elon-m...   \n",
       "2  https://www.cnn.com/2020/05/14/investing/prema...   \n",
       "3  https://www.cnn.com/2020/05/13/business/elon-m...   \n",
       "4  https://www.cnn.com/2020/05/13/business/tesla-...   \n",
       "\n",
       "                                             content       date  \n",
       "0  Afterwinning a public standoffwith California'... 2020-05-14  \n",
       "1  His words were tone deaf and, for someone with... 2020-05-01  \n",
       "2  A version of this story first appeared in CNN ... 2020-05-14  \n",
       "3  Musk deftly played the part of a new kind of C... 2020-05-13  \n",
       "4  It is a remarkable achievement for a company t... 2020-05-13  "
      ]
     },
     "execution_count": 84,
     "metadata": {},
     "output_type": "execute_result"
    }
   ],
   "source": [
    "tesla2 = cleaning(tesla)\n",
    "tesla2.head()"
   ]
  },
  {
   "cell_type": "code",
   "execution_count": 87,
   "metadata": {},
   "outputs": [],
   "source": [
    "tesla2.to_csv('./Data/Tesla/Clean/1.csv', index=False)"
   ]
  },
  {
   "cell_type": "code",
   "execution_count": 89,
   "metadata": {},
   "outputs": [
    {
     "name": "stdout",
     "output_type": "stream",
     "text": [
      "<class 'pandas.core.frame.DataFrame'>\n",
      "RangeIndex: 100 entries, 0 to 99\n",
      "Data columns (total 4 columns):\n",
      " #   Column   Non-Null Count  Dtype         \n",
      "---  ------   --------------  -----         \n",
      " 0   Title    100 non-null    object        \n",
      " 1   url      100 non-null    object        \n",
      " 2   content  100 non-null    object        \n",
      " 3   date     100 non-null    datetime64[ns]\n",
      "dtypes: datetime64[ns](1), object(3)\n",
      "memory usage: 3.2+ KB\n"
     ]
    }
   ],
   "source": [
    "tesla2.info()"
   ]
  }
 ],
 "metadata": {
  "kernelspec": {
   "display_name": "Python 3",
   "language": "python",
   "name": "python3"
  },
  "language_info": {
   "codemirror_mode": {
    "name": "ipython",
    "version": 3
   },
   "file_extension": ".py",
   "mimetype": "text/x-python",
   "name": "python",
   "nbconvert_exporter": "python",
   "pygments_lexer": "ipython3",
   "version": "3.7.0"
  }
 },
 "nbformat": 4,
 "nbformat_minor": 2
}
