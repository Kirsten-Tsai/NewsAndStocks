{
 "cells": [
  {
   "cell_type": "code",
   "execution_count": 1,
   "metadata": {},
   "outputs": [],
   "source": [
    "import nltk\n",
    "import pandas as pd\n",
    "import re\n",
    "import string\n",
    "\n",
    "from nltk.corpus import stopwords \n",
    "from nltk.tokenize import word_tokenize \n",
    "from vaderSentiment.vaderSentiment import SentimentIntensityAnalyzer"
   ]
  },
  {
   "cell_type": "code",
   "execution_count": 29,
   "metadata": {},
   "outputs": [
    {
     "name": "stdout",
     "output_type": "stream",
     "text": [
      "[nltk_data] Downloading package stopwords to\n",
      "[nltk_data]     C:\\Users\\Kirsten\\AppData\\Roaming\\nltk_data...\n",
      "[nltk_data]   Unzipping corpora\\stopwords.zip.\n"
     ]
    },
    {
     "data": {
      "text/plain": [
       "True"
      ]
     },
     "execution_count": 29,
     "metadata": {},
     "output_type": "execute_result"
    }
   ],
   "source": [
    "nltk.download('stopwords')"
   ]
  },
  {
   "cell_type": "code",
   "execution_count": 33,
   "metadata": {},
   "outputs": [
    {
     "name": "stdout",
     "output_type": "stream",
     "text": [
      "[nltk_data] Downloading package punkt to\n",
      "[nltk_data]     C:\\Users\\Kirsten\\AppData\\Roaming\\nltk_data...\n",
      "[nltk_data]   Unzipping tokenizers\\punkt.zip.\n"
     ]
    },
    {
     "data": {
      "text/plain": [
       "True"
      ]
     },
     "execution_count": 33,
     "metadata": {},
     "output_type": "execute_result"
    }
   ],
   "source": [
    "nltk.download('punkt')"
   ]
  },
  {
   "cell_type": "code",
   "execution_count": 6,
   "metadata": {},
   "outputs": [],
   "source": [
    "stop_words = set(stopwords.words('english'))"
   ]
  },
  {
   "cell_type": "code",
   "execution_count": 2,
   "metadata": {},
   "outputs": [],
   "source": [
    "def words(text) -> list:\n",
    "    \"\"\"\n",
    "    Given a string, return a list of words normalized as follows.\n",
    "    Split the string to make words first by using regex compile() function\n",
    "    and string.punctuation + '0-9\\\\r\\\\t\\\\n]' to replace all those\n",
    "    char with a space character.\n",
    "    Split on space to get word list.\n",
    "    Ignore words < 3 char long.\n",
    "    Lowercase all words\n",
    "    Remove English stop words\n",
    "    \"\"\"\n",
    "    regex = re.compile('[' + re.escape(string.punctuation) + '0-9\\\\r\\\\t\\\\n]')\n",
    "    nopunct = regex.sub(\" \", text)  # delete stuff but leave at least a space to avoid clumping together\n",
    "    words = nopunct.split(\" \")\n",
    "    words = [w for w in words if len(w) > 2]  # ignore a, an, to, at, be, ...\n",
    "    words = [w.lower() for w in words]\n",
    "    words = [i for i in words if i not in list(stop_words)]\n",
    "\n",
    "    return words\n"
   ]
  },
  {
   "cell_type": "code",
   "execution_count": 3,
   "metadata": {},
   "outputs": [],
   "source": [
    "def sentiment(content):\n",
    "    analyzer = SentimentIntensityAnalyzer()\n",
    "    content = ' '.join(words(content))\n",
    "    score = analyzer.polarity_scores(content)\n",
    "    return score['compound']"
   ]
  },
  {
   "cell_type": "code",
   "execution_count": 4,
   "metadata": {},
   "outputs": [],
   "source": [
    "def main(filewithcontent, outputfile):\n",
    "    df = pd.read_csv(f\"./Data/Tesla/Clean/{filewithcontent}.csv\")\n",
    "    df = df.loc[~(df.content.isna())]\n",
    "    df.loc[:, 'compound'] = df.content.apply(lambda x: sentiment(x))\n",
    "    df.to_csv(f\"./Data/Tesla/Clean/{outputfile}.csv\", index=False)\n",
    "    return df"
   ]
  },
  {
   "cell_type": "code",
   "execution_count": 104,
   "metadata": {},
   "outputs": [
    {
     "data": {
      "text/html": [
       "<div>\n",
       "<style scoped>\n",
       "    .dataframe tbody tr th:only-of-type {\n",
       "        vertical-align: middle;\n",
       "    }\n",
       "\n",
       "    .dataframe tbody tr th {\n",
       "        vertical-align: top;\n",
       "    }\n",
       "\n",
       "    .dataframe thead th {\n",
       "        text-align: right;\n",
       "    }\n",
       "</style>\n",
       "<table border=\"1\" class=\"dataframe\">\n",
       "  <thead>\n",
       "    <tr style=\"text-align: right;\">\n",
       "      <th></th>\n",
       "      <th>Title</th>\n",
       "      <th>url</th>\n",
       "      <th>content</th>\n",
       "      <th>date</th>\n",
       "      <th>compound</th>\n",
       "    </tr>\n",
       "  </thead>\n",
       "  <tbody>\n",
       "    <tr>\n",
       "      <th>0</th>\n",
       "      <td>Tesla factory worker: Elon Musk doesn't have w...</td>\n",
       "      <td>https://www.cnn.com/2020/05/14/tech/tesla-work...</td>\n",
       "      <td>Afterwinning a public standoffwith California'...</td>\n",
       "      <td>2020-05-14</td>\n",
       "      <td>0.9324</td>\n",
       "    </tr>\n",
       "    <tr>\n",
       "      <th>1</th>\n",
       "      <td>Elon Musk is using his power to be selfish</td>\n",
       "      <td>https://www.cnn.com/2020/05/01/opinions/elon-m...</td>\n",
       "      <td>His words were tone deaf and, for someone with...</td>\n",
       "      <td>2020-05-01</td>\n",
       "      <td>-0.2732</td>\n",
       "    </tr>\n",
       "    <tr>\n",
       "      <th>2</th>\n",
       "      <td>Jerome Powell is asking for help. Will anyone ...</td>\n",
       "      <td>https://www.cnn.com/2020/05/14/investing/prema...</td>\n",
       "      <td>A version of this story first appeared in CNN ...</td>\n",
       "      <td>2020-05-14</td>\n",
       "      <td>0.9048</td>\n",
       "    </tr>\n",
       "    <tr>\n",
       "      <th>3</th>\n",
       "      <td>Analysis: What happened to Elon Musk?</td>\n",
       "      <td>https://www.cnn.com/2020/05/13/business/elon-m...</td>\n",
       "      <td>Musk deftly played the part of a new kind of C...</td>\n",
       "      <td>2020-05-13</td>\n",
       "      <td>0.9911</td>\n",
       "    </tr>\n",
       "    <tr>\n",
       "      <th>4</th>\n",
       "      <td>After years without turning a profit, Tesla is...</td>\n",
       "      <td>https://www.cnn.com/2020/05/13/business/tesla-...</td>\n",
       "      <td>It is a remarkable achievement for a company t...</td>\n",
       "      <td>2020-05-13</td>\n",
       "      <td>0.9985</td>\n",
       "    </tr>\n",
       "    <tr>\n",
       "      <th>...</th>\n",
       "      <td>...</td>\n",
       "      <td>...</td>\n",
       "      <td>...</td>\n",
       "      <td>...</td>\n",
       "      <td>...</td>\n",
       "    </tr>\n",
       "    <tr>\n",
       "      <th>94</th>\n",
       "      <td>Hot Wheels to launch a radio-controlled Cybert...</td>\n",
       "      <td>https://www.cnn.com/2020/02/21/business/tesla-...</td>\n",
       "      <td>Mattel has announced that it is releasing two ...</td>\n",
       "      <td>2020-02-21</td>\n",
       "      <td>0.4939</td>\n",
       "    </tr>\n",
       "    <tr>\n",
       "      <th>95</th>\n",
       "      <td>How Bernie Sanders could actually be helping t...</td>\n",
       "      <td>https://www.cnn.com/2020/02/20/investing/stock...</td>\n",
       "      <td>Despite the Sanders surge, or perhaps because ...</td>\n",
       "      <td>2020-02-20</td>\n",
       "      <td>0.9977</td>\n",
       "    </tr>\n",
       "    <tr>\n",
       "      <th>96</th>\n",
       "      <td>The Dow and Nasdaq are approaching big milesto...</td>\n",
       "      <td>https://www.cnn.com/2020/02/19/investing/dow-n...</td>\n",
       "      <td>The Dow and Nasdaq are both approaching splash...</td>\n",
       "      <td>2020-02-19</td>\n",
       "      <td>0.9588</td>\n",
       "    </tr>\n",
       "    <tr>\n",
       "      <th>98</th>\n",
       "      <td>Solar might be Tesla's secret weapon</td>\n",
       "      <td>https://www.cnn.com/2020/02/19/investing/tesla...</td>\n",
       "      <td>Alex Potter, an analyst with Piper Sandler, ra...</td>\n",
       "      <td>2020-02-19</td>\n",
       "      <td>0.9879</td>\n",
       "    </tr>\n",
       "    <tr>\n",
       "      <th>99</th>\n",
       "      <td>Virgin Galactic shares have skyrocketed nearly...</td>\n",
       "      <td>https://www.cnn.com/2020/02/18/investing/virgi...</td>\n",
       "      <td>The stock pared its gains later in the day but...</td>\n",
       "      <td>2020-02-18</td>\n",
       "      <td>0.9771</td>\n",
       "    </tr>\n",
       "  </tbody>\n",
       "</table>\n",
       "<p>80 rows × 5 columns</p>\n",
       "</div>"
      ],
      "text/plain": [
       "                                                Title  \\\n",
       "0   Tesla factory worker: Elon Musk doesn't have w...   \n",
       "1          Elon Musk is using his power to be selfish   \n",
       "2   Jerome Powell is asking for help. Will anyone ...   \n",
       "3               Analysis: What happened to Elon Musk?   \n",
       "4   After years without turning a profit, Tesla is...   \n",
       "..                                                ...   \n",
       "94  Hot Wheels to launch a radio-controlled Cybert...   \n",
       "95  How Bernie Sanders could actually be helping t...   \n",
       "96  The Dow and Nasdaq are approaching big milesto...   \n",
       "98               Solar might be Tesla's secret weapon   \n",
       "99  Virgin Galactic shares have skyrocketed nearly...   \n",
       "\n",
       "                                                  url  \\\n",
       "0   https://www.cnn.com/2020/05/14/tech/tesla-work...   \n",
       "1   https://www.cnn.com/2020/05/01/opinions/elon-m...   \n",
       "2   https://www.cnn.com/2020/05/14/investing/prema...   \n",
       "3   https://www.cnn.com/2020/05/13/business/elon-m...   \n",
       "4   https://www.cnn.com/2020/05/13/business/tesla-...   \n",
       "..                                                ...   \n",
       "94  https://www.cnn.com/2020/02/21/business/tesla-...   \n",
       "95  https://www.cnn.com/2020/02/20/investing/stock...   \n",
       "96  https://www.cnn.com/2020/02/19/investing/dow-n...   \n",
       "98  https://www.cnn.com/2020/02/19/investing/tesla...   \n",
       "99  https://www.cnn.com/2020/02/18/investing/virgi...   \n",
       "\n",
       "                                              content        date  compound  \n",
       "0   Afterwinning a public standoffwith California'...  2020-05-14    0.9324  \n",
       "1   His words were tone deaf and, for someone with...  2020-05-01   -0.2732  \n",
       "2   A version of this story first appeared in CNN ...  2020-05-14    0.9048  \n",
       "3   Musk deftly played the part of a new kind of C...  2020-05-13    0.9911  \n",
       "4   It is a remarkable achievement for a company t...  2020-05-13    0.9985  \n",
       "..                                                ...         ...       ...  \n",
       "94  Mattel has announced that it is releasing two ...  2020-02-21    0.4939  \n",
       "95  Despite the Sanders surge, or perhaps because ...  2020-02-20    0.9977  \n",
       "96  The Dow and Nasdaq are both approaching splash...  2020-02-19    0.9588  \n",
       "98  Alex Potter, an analyst with Piper Sandler, ra...  2020-02-19    0.9879  \n",
       "99  The stock pared its gains later in the day but...  2020-02-18    0.9771  \n",
       "\n",
       "[80 rows x 5 columns]"
      ]
     },
     "execution_count": 104,
     "metadata": {},
     "output_type": "execute_result"
    }
   ],
   "source": [
    "main(\"1w_content\", \"1w_score\")"
   ]
  },
  {
   "cell_type": "code",
   "execution_count": 7,
   "metadata": {},
   "outputs": [],
   "source": [
    "for i in range(3, 9):\n",
    "    main(f\"{i}w_content\", f\"{i}w_score\")"
   ]
  },
  {
   "cell_type": "code",
   "execution_count": null,
   "metadata": {},
   "outputs": [],
   "source": []
  }
 ],
 "metadata": {
  "kernelspec": {
   "display_name": "Python 3",
   "language": "python",
   "name": "python3"
  },
  "language_info": {
   "codemirror_mode": {
    "name": "ipython",
    "version": 3
   },
   "file_extension": ".py",
   "mimetype": "text/x-python",
   "name": "python",
   "nbconvert_exporter": "python",
   "pygments_lexer": "ipython3",
   "version": "3.7.0"
  }
 },
 "nbformat": 4,
 "nbformat_minor": 2
}
